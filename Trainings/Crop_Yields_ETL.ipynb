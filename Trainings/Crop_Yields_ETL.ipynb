{
 "cells": [
  {
   "cell_type": "markdown",
   "metadata": {},
   "source": [
    "## Scoping"
   ]
  },
  {
   "cell_type": "code",
   "execution_count": null,
   "metadata": {},
   "outputs": [],
   "source": [
    "# What is business idea\n",
    "# What problem you are solving"
   ]
  },
  {
   "cell_type": "markdown",
   "metadata": {},
   "source": [
    "# ETL (Extract, Transform, Load)"
   ]
  },
  {
   "cell_type": "code",
   "execution_count": null,
   "metadata": {},
   "outputs": [],
   "source": [
    "import pandas as pd\n",
    "import numpy as np\n",
    "import geopandas as gpd\n",
    "import matplotlib.pyplot as plt\n",
    "import seaborn as sb\n",
    "import folium\n",
    "plt.rcParams['figure.figsize'] = [12, 8]"
   ]
  },
  {
   "cell_type": "markdown",
   "metadata": {},
   "source": [
    "## Yield"
   ]
  },
  {
   "cell_type": "code",
   "execution_count": null,
   "metadata": {},
   "outputs": [],
   "source": [
    "df_sk=pd.read_csv('/Users/ruhidmirzayev/Palette/Data/rm-yields-data.csv')"
   ]
  },
  {
   "cell_type": "code",
   "execution_count": null,
   "metadata": {},
   "outputs": [],
   "source": [
    "df_mb=pd.read_excel('/Users/ruhidmirzayev/Palette/Data/MMPP - Yield by Soil Type Browser.xlsx')"
   ]
  },
  {
   "cell_type": "markdown",
   "metadata": {},
   "source": [
    "## Shapefiles"
   ]
  },
  {
   "cell_type": "code",
   "execution_count": null,
   "metadata": {},
   "outputs": [],
   "source": [
    "gdf_sk=gpd.read_file('/Users/ruhidmirzayev/Palette/Data/Shapefiles/SK_RM_Shapefiles/RuralMunicipality.shp')"
   ]
  },
  {
   "cell_type": "code",
   "execution_count": null,
   "metadata": {},
   "outputs": [],
   "source": [
    "gdf_mb=gpd.read_file('/Users/ruhidmirzayev/Palette/Data/Shapefiles/MB_RM_Shapefiles/MB_Municipal_Boundaries.shp')"
   ]
  },
  {
   "cell_type": "markdown",
   "metadata": {},
   "source": [
    "## Transforming"
   ]
  },
  {
   "cell_type": "code",
   "execution_count": null,
   "metadata": {},
   "outputs": [],
   "source": [
    "# List of columns\n",
    "df_sk.columns"
   ]
  },
  {
   "cell_type": "code",
   "execution_count": null,
   "metadata": {},
   "outputs": [],
   "source": [
    "# List of columns\n",
    "df_mb.columns"
   ]
  },
  {
   "cell_type": "code",
   "execution_count": null,
   "metadata": {},
   "outputs": [],
   "source": [
    "# Info about columns\n",
    "df_sk.info()"
   ]
  },
  {
   "cell_type": "code",
   "execution_count": null,
   "metadata": {},
   "outputs": [],
   "source": [
    "# Info about columns\n",
    "df_mb.info()"
   ]
  },
  {
   "cell_type": "code",
   "execution_count": null,
   "metadata": {},
   "outputs": [],
   "source": [
    "# Table heads\n",
    "df_sk.head()"
   ]
  },
  {
   "cell_type": "code",
   "execution_count": null,
   "metadata": {},
   "outputs": [],
   "source": [
    "# Table heads\n",
    "df_mb.head()"
   ]
  },
  {
   "cell_type": "code",
   "execution_count": null,
   "metadata": {},
   "outputs": [],
   "source": [
    "df_mb['Yield/acre(Metric)']=df_mb['Yield/acre(Metric)'].str.replace(' Tonnes', '') # Replacing Tonnes\n",
    "df_mb['Yield/acre(Metric)']=df_mb['Yield/acre(Metric)'].replace('Tolerance', np.NaN) # Replacing Tolerance\n",
    "df_mb['Yield/acre(Metric)']=df_mb['Yield/acre(Metric)'].astype(float) # changing object to float data type"
   ]
  },
  {
   "cell_type": "code",
   "execution_count": null,
   "metadata": {},
   "outputs": [],
   "source": [
    "df_mb_pivot=pd.pivot_table(df_mb.drop(columns=['Yield/acre(Metric).1', 'Yield/acre(Imperial)', 'Soil', 'Farms' ]),\n",
    "               index=['Risk Area / R.M.', 'Year'], columns='Crop', values='Yield/acre(Metric)')\\\n",
    "               .reset_index()"
   ]
  },
  {
   "cell_type": "code",
   "execution_count": null,
   "metadata": {},
   "outputs": [],
   "source": [
    "df_sk.columns"
   ]
  },
  {
   "cell_type": "code",
   "execution_count": null,
   "metadata": {},
   "outputs": [],
   "source": [
    "df_mb_pivot.columns"
   ]
  },
  {
   "cell_type": "code",
   "execution_count": null,
   "metadata": {},
   "outputs": [],
   "source": [
    "df_mb_clean=df_mb_pivot.rename(columns={\n",
    "    'Risk Area / R.M.': 'RM', \n",
    "    'ARGENTINE CANOLA': 'Canola', \n",
    "    'BARLEY':'Barley',\n",
    "    'CANARYSEED': 'Canary Seed', \n",
    "    'DURUM WHEAT': 'Durum Wheat', \n",
    "     'LENTILS': 'Lentils', \n",
    "     'OATS': 'Oats',\n",
    "    'RED SPRING WHEAT': 'Spring Wheat', \n",
    "    'WHITE PEA BEANS': 'Peas'}) \\\n",
    "        .drop(columns=['ALFALFA', 'FABABEANS', 'FABABEANS', 'POLISH CANOLA'] )"
   ]
  },
  {
   "cell_type": "code",
   "execution_count": null,
   "metadata": {},
   "outputs": [],
   "source": [
    "df_sk_clean=df_sk.rename(columns={'Durum': 'Durum Wheat'}).drop(columns=['Winter Wheat', 'Mustard', 'Sunflowers', 'Fall Rye', 'Spring Rye', 'Tame Hay','Flax', 'Chickpeas' ] )"
   ]
  },
  {
   "cell_type": "code",
   "execution_count": null,
   "metadata": {},
   "outputs": [],
   "source": [
    "df_sk_clean"
   ]
  },
  {
   "cell_type": "code",
   "execution_count": null,
   "metadata": {},
   "outputs": [],
   "source": [
    "df_mb_clean"
   ]
  },
  {
   "cell_type": "code",
   "execution_count": null,
   "metadata": {},
   "outputs": [],
   "source": [
    "# Crop conversion in MB tonnes to bushel\n",
    "df_mb_clean['Canola']=df_mb_clean['Canola'] * 44.092\n",
    "df_mb_clean['Barley']=df_mb_clean['Barley'] * 45.93\n",
    "df_mb_clean['Canary Seed']=df_mb_clean['Canary Seed'] * 44.092\n",
    "df_mb_clean['Durum Wheat']=df_mb_clean['Durum Wheat'] * 36.74\n",
    "df_mb_clean['Lentils']=df_mb_clean['Lentils'] * 36.74\n",
    "df_mb_clean['Oats']=df_mb_clean['Oats'] * 64.842\n",
    "df_mb_clean['Spring Wheat']=df_mb_clean['Spring Wheat'] * 36.74\n",
    "df_mb_clean['Peas']=df_mb_clean['Peas'] *  36.74\n"
   ]
  },
  {
   "cell_type": "code",
   "execution_count": null,
   "metadata": {},
   "outputs": [],
   "source": [
    "# Crop Conversion in SK - pounds to bushels\n",
    "df_sk_clean['Lentils']=df_sk_clean['Lentils'] / 60\n",
    "df_sk_clean['Canary Seed']=df_sk_clean['Canary Seed'] / 50"
   ]
  },
  {
   "cell_type": "code",
   "execution_count": null,
   "metadata": {},
   "outputs": [],
   "source": [
    "# Creating province column\n",
    "df_mb_clean['Province'] = 'MB'\n",
    "df_sk_clean['Province'] = 'SK'"
   ]
  },
  {
   "cell_type": "code",
   "execution_count": null,
   "metadata": {},
   "outputs": [],
   "source": [
    "# More like copy paste in excel under existing data. Make sure column names are the same\n",
    "df = pd.concat([df_mb_clean, df_sk_clean])"
   ]
  },
  {
   "cell_type": "markdown",
   "metadata": {},
   "source": [
    "# EDA(Exploratory Data Analysis)"
   ]
  },
  {
   "cell_type": "markdown",
   "metadata": {},
   "source": [
    "## Missing Values"
   ]
  },
  {
   "cell_type": "code",
   "execution_count": null,
   "metadata": {},
   "outputs": [],
   "source": [
    "df.isna().sum().sort_values().plot(kind='bar', color='green')\n",
    "plt.title('Missing Values- 1938 to 2022', color='Gray')\n",
    "plt.xlabel('Crops')\n",
    "plt.ylabel('# of Missing values')\n",
    "plt.axhline(len(df)/2, linestyle='--', color='red')\n",
    "plt.axhline(len(df)/4, linestyle='--', color='red')\n",
    "plt.axhline(len(df)/10, linestyle='--', color='red')\n",
    "plt.show()"
   ]
  },
  {
   "cell_type": "code",
   "execution_count": null,
   "metadata": {},
   "outputs": [],
   "source": [
    "df.loc[df['Year']>2002].isna().sum().sort_values().plot(kind='bar', color='green')\n",
    "plt.title('Missing Values - 2002 to 2022')\n",
    "plt.xlabel('Crops')\n",
    "plt.ylabel('# of Missing values')\n",
    "plt.axhline(len(df)/2, linestyle='--', color='red')\n",
    "plt.axhline(len(df)/4, linestyle='--', color='red')\n",
    "plt.axhline(len(df)/10, linestyle='--', color='red')\n",
    "plt.show()"
   ]
  },
  {
   "cell_type": "markdown",
   "metadata": {},
   "source": [
    "## Outliers"
   ]
  },
  {
   "cell_type": "code",
   "execution_count": null,
   "metadata": {},
   "outputs": [],
   "source": [
    "crop_columns=['Canola', 'Barley', 'Canary Seed', 'Durum Wheat',\n",
    "       'Lentils', 'Oats', 'Spring Wheat', 'Peas']"
   ]
  },
  {
   "cell_type": "markdown",
   "metadata": {},
   "source": [
    "## Histograms"
   ]
  },
  {
   "cell_type": "code",
   "execution_count": null,
   "metadata": {},
   "outputs": [],
   "source": [
    "df[crop_columns].hist(bins=300)\n",
    "plt.show()"
   ]
  },
  {
   "cell_type": "code",
   "execution_count": null,
   "metadata": {},
   "outputs": [],
   "source": [
    "sb.heatmap(df[crop_columns].corr(), annot=True)"
   ]
  },
  {
   "cell_type": "markdown",
   "metadata": {},
   "source": [
    "## Boxplots"
   ]
  },
  {
   "cell_type": "code",
   "execution_count": null,
   "metadata": {},
   "outputs": [],
   "source": [
    "df[crop_columns].boxplot()"
   ]
  },
  {
   "cell_type": "code",
   "execution_count": null,
   "metadata": {},
   "outputs": [],
   "source": [
    "df.loc[df['Spring Wheat']>180]"
   ]
  },
  {
   "cell_type": "code",
   "execution_count": null,
   "metadata": {},
   "outputs": [],
   "source": [
    "# Peorson Corr (-1 to 1), -1 negative corr, o no corr, 1 positive corr\n",
    "# Using Seaborn\n",
    "sb.heatmap(df[crop_columns].corr(),annot=True, cmap='Greens')\n"
   ]
  },
  {
   "cell_type": "markdown",
   "metadata": {},
   "source": [
    "## GIS Analyis"
   ]
  },
  {
   "cell_type": "code",
   "execution_count": null,
   "metadata": {},
   "outputs": [],
   "source": [
    "# CRS --> Cordinate Reference Systems\n",
    "gdf_mb['geometry'].crs"
   ]
  },
  {
   "cell_type": "code",
   "execution_count": null,
   "metadata": {},
   "outputs": [],
   "source": [
    "# Standardazing CRS formats\n",
    "gdf_sk['geometry']=gdf_sk['geometry'].to_crs('epsg:4326')\n",
    "gdf_mb['geometry']=gdf_mb['geometry'].to_crs('epsg:4326')"
   ]
  },
  {
   "cell_type": "code",
   "execution_count": null,
   "metadata": {},
   "outputs": [],
   "source": [
    "# Renaming column name\n",
    "gdf_sk['RMNO']=gdf_sk['RMNO'].astype(int)"
   ]
  },
  {
   "cell_type": "code",
   "execution_count": null,
   "metadata": {},
   "outputs": [],
   "source": [
    "#set(gdf['RM'].unique()) - set(df_sk_clean['RM'].unique())"
   ]
  },
  {
   "cell_type": "code",
   "execution_count": null,
   "metadata": {},
   "outputs": [],
   "source": [
      "gdf_mb['MUNI_NAME']=gdf_mb['MUNI_NAME'].str.replace('RM OF ','', regex=False) # not caps sensitive\n",
      "gdf_mb['MUNI_NAME']=gdf_mb['MUNI_NAME'].str.replace('MUNICIPALITY OF ','', regex=False) # not caps sensitive\n",
      "gdf_mb['MUNI_NAME']=gdf_mb['MUNI_NAME'].str.replace(' MUNICIPALITY','', regex=False) # not caps sensitive\n",
      "gdf_mb['MUNI_NAME']=gdf_mb['MUNI_NAME'].str.replace('CITY OF ','', regex=False) # not caps sensitive"
     ]
  },
  {
   "cell_type": "code",
   "execution_count": null,
   "metadata": {},
   "outputs": [],
   "source": [
    "gdf=pd.concat([gdf_sk[['RMNO','geometry']].rename(columns={'RMNO':'RM'}),gdf_mb[['MUNI_NAME', 'geometry']].rename(columns={'MUNI_NAME':'RM'})])"
   ]
  },
  {
   "cell_type": "code",
   "execution_count": null,
   "metadata": {},
   "outputs": [],
   "source": [
    "# gdf.plot()not interactive\n",
    "# gdf.explore()"
   ]
  },
  {
   "cell_type": "code",
   "execution_count": null,
   "metadata": {},
   "outputs": [],
   "source": [
    "gdf['RM']=gdf['RM'].astype('string')\n",
    "df['RM']=df['RM'].astype('string')"
   ]
  },
  {
   "cell_type": "code",
   "execution_count": null,
   "metadata": {},
   "outputs": [],
   "source": [
    "# SQL inner join\n",
    "df_gdf=pd.merge(gdf, df, on='RM', how='inner') "
   ]
  },
  {
   "cell_type": "code",
   "execution_count": null,
   "metadata": {},
   "outputs": [],
   "source": [
    "print('Before merging', gdf['RM'].nunique())\n",
    "print('After merging',df_gdf['RM'].nunique())"
   ]
  },
  {
   "cell_type": "code",
   "execution_count": null,
   "metadata": {},
   "outputs": [],
   "source": [
    "ds=df_gdf.copy()"
   ]
  },
  {
   "cell_type": "markdown",
   "metadata": {},
   "source": [
    "### GIS Visualization"
   ]
  },
  {
   "cell_type": "markdown",
   "metadata": {},
   "source": [
    "#### Explore functiom"
   ]
  },
  {
   "cell_type": "code",
   "execution_count": null,
   "metadata": {},
   "outputs": [],
   "source": [
    "m=ds.loc[ds['Year']==2021].explore(column='Canola', \n",
    "                                 legend=True,  \n",
    "                                 cmap='Greens',\n",
    "                                 tooltip= ['Canola', 'RM'],\n",
    "                                 tiles='Stamen Toner') # Plot() is good for showing up in GitHub, Explore() is good for interactive map and saving as HTML\n",
    "\n",
    "# Adding a title with dark orange color to the folium map\n",
    "title_html = '''\n",
    "                 <h3 align=\"center\" style=\"font-size:30px; color:Green;\"><b> Canola Yield in 2021 </b></h3>\n",
    "             '''\n",
    "m.get_root().html.add_child(folium.Element(title_html))\n",
    "m.save('/users/ruhidmirzayev/Palette/Canola_2021.html')"
   ]
  },
  {
   "cell_type": "markdown",
   "metadata": {},
   "source": [
    "#### Plot"
   ]
  },
  {
   "cell_type": "code",
   "execution_count": null,
   "metadata": {},
   "outputs": [],
   "source": [
    "ds.loc[ds['Year']==2021].plot(column='Canola', \n",
    "                                 legend=True,  \n",
    "                                 cmap='Greens')"
   ]
  },
  {
   "cell_type": "markdown",
   "metadata": {},
   "source": [
    "## Tableau"
   ]
  },
  {
   "cell_type": "raw",
   "metadata": {},
   "source": [
    "# Save as CSV\n",
    "df_gdf.drop(columns='geometry').to_csv('/Users/ruhidmirzayev/Palette/Data/Crops_Yield_1938_2022.csv')"
   ]
  },
  {
   "cell_type": "raw",
   "metadata": {},
   "source": [
    "\n",
    "df_gdf.loc[df_gdf['Year']==2020][['RM', 'geometry']]"
   ]
  },
  {
   "cell_type": "raw",
   "metadata": {},
   "source": [
    "# Save as GIS\n",
    "df_gdf.loc[df_gdf['Year']==2020][['RM', 'geometry']].to_file('/Users/ruhidmirzayev/Palette/Data/SK_MB_GIS_data.shp')"
   ]
  },
  {
   "cell_type": "markdown",
   "metadata": {},
   "source": [
    "## Aggragetions"
   ]
  },
  {
   "cell_type": "code",
   "execution_count": null,
   "metadata": {},
   "outputs": [],
   "source": [
    "df_03_22=df.loc[df['Year']>2002].sort_values(['RM', 'Year'])"
   ]
  },
  {
   "cell_type": "code",
   "execution_count": null,
   "metadata": {},
   "outputs": [],
   "source": [
    "import matplotlib.pyplot as plt\n",
    "\n",
    "fig, axes = plt.subplots(5, 4, figsize=(15, 20))\n",
    "years = df_03_22['Year'].unique()\n",
    "\n",
    "for i, year in enumerate(years):\n",
    "    ax = axes[i//4, i%4]\n",
    "    merged_df = pd.merge(gdf, df_03_22.loc[df_03_22['Year'] == year], on='RM')\n",
    "    merged_df.plot(column='Canola', cmap='RdYlGn', legend=True, ax=ax)\n",
    "    ax.set_title(f'Canola Yield in {year}', color='Blue', size=12)\n",
    "\n",
    "plt.tight_layout()\n",
    "plt.show()"
   ]
  },
  {
   "cell_type": "code",
   "execution_count": null,
   "metadata": {},
   "outputs": [],
   "source": [
    "agg_funcs = {\n",
    "    column: ['mean', 'std', 'median'] for column in crop_columns\n",
    "}\n",
    "\n",
    "df_agg = df_03_22.set_index('RM')[crop_columns].groupby('RM').agg(agg_funcs)\n",
    "\n",
    "# Optionally, to flatten the multi-level columns:\n",
    "df_agg.columns = ['_'.join(col).strip() for col in df_agg.columns.values]\n",
    "\n",
    "# Dropping missing values for Canola mean.\n",
    "df_agg=df_agg.dropna(subset='Canola_mean')"
   ]
  },
  {
   "cell_type": "markdown",
   "metadata": {},
   "source": [
    "# Feature Selection"
   ]
  },
  {
   "cell_type": "markdown",
   "metadata": {},
   "source": [
    "## Filtered Methods"
   ]
  },
  {
   "cell_type": "code",
   "execution_count": null,
   "metadata": {},
   "outputs": [],
   "source": [
    "# ANOVA\n",
    "# Pearson Correlation"
   ]
  },
  {
   "cell_type": "markdown",
   "metadata": {},
   "source": [
    "## Wrapper"
   ]
  },
  {
   "cell_type": "code",
   "execution_count": null,
   "metadata": {},
   "outputs": [],
   "source": [
    "## Recurisive Feature Elimnation\n",
    "## Backward feature elimination"
   ]
  },
  {
   "cell_type": "markdown",
   "metadata": {},
   "source": [
    "## Emedded "
   ]
  },
  {
   "cell_type": "code",
   "execution_count": null,
   "metadata": {},
   "outputs": [],
   "source": [
    "# Decision Tree\n",
    "# Lasso Reg"
   ]
  },
  {
   "cell_type": "markdown",
   "metadata": {},
   "source": [
    "# Standardizing/Split"
   ]
  },
  {
   "cell_type": "code",
   "execution_count": null,
   "metadata": {},
   "outputs": [],
   "source": [
    "# Only for Supervised ML, not unsupervised"
   ]
  },
  {
   "cell_type": "markdown",
   "metadata": {},
   "source": [
    "# Training Models"
   ]
  },
  {
   "cell_type": "code",
   "execution_count": null,
   "metadata": {},
   "outputs": [],
   "source": [
    "# Use default parameters - not advised\n",
    "\n",
    "# Parameter tuning\n",
    "# Use always grid search"
   ]
  },
  {
   "cell_type": "markdown",
   "metadata": {},
   "source": [
    "## K-Means Clustering"
   ]
  },
  {
   "cell_type": "code",
   "execution_count": null,
   "metadata": {},
   "outputs": [],
   "source": [
    "# Importing library\n",
    "from sklearn.cluster import KMeans \n",
    "\n",
    "df_agg_can= df_agg[['Canola_mean', 'Canola_std']]\n",
    "\n",
    "# Let's define our features\n",
    "X = df_agg_can.copy()\n",
    "\n",
    "from sklearn.metrics import silhouette_score\n",
    "n_clusters = [2,3,4,5,6,7,8,9,10,11,12,13,14,15] # number of clusters\n",
    "clusters_inertia = [] # inertia of clusters\n",
    "s_scores = [] # silhouette scores\n",
    "\n",
    "for n in n_clusters:\n",
    "    KM = KMeans(n_clusters=n, init='k-means++', n_init=10).fit(X)\n",
    "    clusters_inertia.append(KM.inertia_)    # data for the elbow method\n",
    "    silhouette_avg = silhouette_score(X, KM.labels_)\n",
    "    s_scores.append(silhouette_avg) # data for the silhouette score method"
   ]
  },
  {
   "cell_type": "markdown",
   "metadata": {},
   "source": [
    "## Elbow Metod"
   ]
  },
  {
   "cell_type": "code",
   "execution_count": null,
   "metadata": {},
   "outputs": [],
   "source": [
    "fig, ax = plt.subplots(figsize=(12,5))\n",
    "ax.plot(n_clusters, clusters_inertia, 'o-', color='blue', label='Elbow Method')\n",
    "ax.set_title(\"Elbow Method\")\n",
    "ax.set_xlabel(\"Number of Clusters\")\n",
    "ax.set_ylabel(\"Clusters Inertia\")\n",
    "ax.axvline(4, ls=\"--\", c=\"red\")\n",
    "ax.axvline(5, ls=\"--\", c=\"red\")\n",
    "ax.axvline(6, ls=\"--\", c=\"red\")\n",
    "plt.grid()\n",
    "plt.legend()\n",
    "plt.show()"
   ]
  },
  {
   "cell_type": "markdown",
   "metadata": {},
   "source": [
    "## Silhouette Score"
   ]
  },
  {
   "cell_type": "code",
   "execution_count": null,
   "metadata": {},
   "outputs": [],
   "source": [
    "fig, ax = plt.subplots(figsize=(12,5))\n",
    "ax.plot(n_clusters, s_scores, 's-', color='green', label='Silhouette Score Method')\n",
    "ax.set_title(\"Silhouette Score Method\")\n",
    "ax.set_xlabel(\"Number of Clusters\")\n",
    "ax.set_ylabel(\"Silhouette Score\")\n",
    "ax.axvline(6, ls=\"--\", c=\"red\")\n",
    "plt.grid()\n",
    "plt.legend()\n",
    "plt.show()\n"
   ]
  },
  {
   "cell_type": "code",
   "execution_count": null,
   "metadata": {},
   "outputs": [],
   "source": [
    "from sklearn.cluster import KMeans\n",
    "\n",
    "kmeans = KMeans(n_clusters=5, init='k-means++', random_state=42, n_init=10)\n",
    "df_agg_can['Clusters_5']=kmeans.fit_predict(df_agg_can)"
   ]
  },
  {
   "cell_type": "code",
   "execution_count": null,
   "metadata": {},
   "outputs": [],
   "source": [
    "kmeans = KMeans(n_clusters=7, init='k-means++', random_state=42)\n",
    "df_agg_can['Clusters_7']=kmeans.fit_predict(df_agg_can)"
   ]
  },
  {
   "cell_type": "code",
   "execution_count": null,
   "metadata": {},
   "outputs": [],
   "source": [
    "sb.scatterplot(data=df_agg_can, x='Canola_mean', y='Canola_std', hue='Clusters_5')\n",
    "plt.title('Canola Clustering Mean and Std | 2003-2022 | K-Means ', color='blue', size =14)\n",
    "plt.show()"
   ]
  },
  {
   "cell_type": "code",
   "execution_count": null,
   "metadata": {},
   "outputs": [],
   "source": [
    "sb.scatterplot(data=df_agg_can, x='Canola_mean', y='Canola_std', hue='Clusters_7')\n",
    "plt.title('Canola Clustering Mean and Std | 2003-2022 | K-Means ', color='blue', size =14)\n",
    "plt.show()"
   ]
  },
  {
   "cell_type": "code",
   "execution_count": null,
   "metadata": {},
   "outputs": [],
   "source": [
    "df_agg_can"
   ]
  },
  {
   "cell_type": "code",
   "execution_count": null,
   "metadata": {},
   "outputs": [],
   "source": [
    "pd.merge(\n",
    "    gdf,\n",
    "    df_agg_can,\n",
    "    on='RM'\n",
    ").explore(column='Clusters_7', legend='True', k=7, scheme='naturalbreaks', cmap='Oranges')"
   ]
  },
  {
   "cell_type": "markdown",
   "metadata": {},
   "source": [
    "## Ranking clusters based on Mean"
   ]
  },
  {
   "cell_type": "code",
   "execution_count": null,
   "metadata": {},
   "outputs": [],
   "source": [
    "df_agg_can.groupby('Clusters_7').mean()\\\n",
    "    .sort_values('Canola_mean')[['Canola_mean',\t'Canola_std']]"
   ]
  },
  {
   "cell_type": "code",
   "execution_count": null,
   "metadata": {},
   "outputs": [],
   "source": [
    "# Ranking based on the mean\n",
    "df_agg_can['Clusters_7_ranked']=df_agg_can['Clusters_7'].replace(to_replace={\n",
    "    3:0,\n",
    "    6:1,\n",
    "    0:2,\n",
    "    5:3,\n",
    "    2:4,\n",
    "    4:5,\n",
    "    1:6\n",
    "})"
   ]
  },
  {
   "cell_type": "code",
   "execution_count": null,
   "metadata": {},
   "outputs": [],
   "source": [
    "df_agg_can.groupby('Clusters_7').mean()\\\n",
    "    .sort_values('Canola_std')[['Canola_mean',\t'Canola_std']]"
   ]
  },
  {
   "cell_type": "code",
   "execution_count": null,
   "metadata": {},
   "outputs": [],
   "source": [
    "# Ranking based on the STD or volatility\n",
    "df_agg_can['Clusters_7_ranked_std']=df_agg_can['Clusters_7'].replace(to_replace={\n",
    "    2:0,\n",
    "    5:1,\n",
    "    6:2,\n",
    "    1:3,\n",
    "    3:4,\n",
    "    4:5,\n",
    "    0:6\n",
    "})"
   ]
  },
  {
   "cell_type": "code",
   "execution_count": null,
   "metadata": {},
   "outputs": [],
   "source": [
    "pd.merge(\n",
    "    gdf,\n",
    "    df_agg_can,\n",
    "    on='RM'\n",
    ").explore(column='Clusters_7_ranked', legend='True', k=7, scheme='naturalbreaks', cmap='Oranges')"
   ]
  },
  {
   "cell_type": "code",
   "execution_count": null,
   "metadata": {},
   "outputs": [],
   "source": [
    "pd.merge(\n",
    "    gdf,\n",
    "    df_agg_can,\n",
    "    on='RM'\n",
    ").explore(column='Clusters_7_ranked_std', legend='True', k=7, scheme='naturalbreaks', cmap='Oranges')"
   ]
  },
  {
   "cell_type": "markdown",
   "metadata": {},
   "source": [
    "# Error  (Supervised ML)"
   ]
  },
  {
   "cell_type": "code",
   "execution_count": null,
   "metadata": {},
   "outputs": [],
   "source": [
    "# MAE (Mean Absolute Error)\n",
    "# RMSE(Mean Squared Error)\n",
    "\n",
    "# Based on above errors, find the min error model.\n",
    "# Check error distribution\n",
    "# Look at the difference\n",
    "# Make a scatterplot"
   ]
  },
  {
   "cell_type": "markdown",
   "metadata": {},
   "source": [
    "# Deployment"
   ]
  },
  {
   "cell_type": "code",
   "execution_count": null,
   "metadata": {},
   "outputs": [],
   "source": [
    "# ML engineers deploys models with SD\n",
    "\n",
    "# AWS Sagemaker"
   ]
  },
  {
   "cell_type": "markdown",
   "metadata": {},
   "source": [
    "# Monitoring"
   ]
  },
  {
   "cell_type": "code",
   "execution_count": null,
   "metadata": {},
   "outputs": [],
   "source": [
    "# Look at error\n",
    "\n",
    "# If something wrong go back to step 1"
   ]
  },
  {
   "cell_type": "markdown",
   "metadata": {},
   "source": [
    "# Joining Tables based on  location in Geopandas"
   ]
  },
  {
   "cell_type": "code",
   "execution_count": null,
   "metadata": {},
   "outputs": [],
   "source": [
    "import geodatasets\n",
    "chicago = gpd.read_file(\n",
    "    geodatasets.get_path(\"geoda.chicago_health\")\n",
    ")\n",
    "groceries = gpd.read_file(\n",
    "    geodatasets.get_path(\"geoda.groceries\")\n",
    ").to_crs(chicago.crs)"
   ]
  },
  {
   "cell_type": "code",
   "execution_count": null,
   "metadata": {},
   "outputs": [],
   "source": [
    "chicago.plot()"
   ]
  },
  {
   "cell_type": "code",
   "execution_count": null,
   "metadata": {},
   "outputs": [],
   "source": [
    "chicago.plot()\n",
    "groceries.plot()\n"
   ]
  },
  {
   "cell_type": "code",
   "execution_count": null,
   "metadata": {},
   "outputs": [],
   "source": [
    "import matplotlib.pyplot as plt\n",
    "\n",
    "# Assuming chicago and groceries are already loaded GeoDataFrames\n",
    "\n",
    "fig, ax = plt.subplots(figsize=(10, 10))\n",
    "\n",
    "# Plot the chicago GeoDataFrame\n",
    "chicago.plot(ax=ax, color='blue', edgecolor='black')\n",
    "\n",
    "# Overlay the groceries GeoDataFrame\n",
    "groceries.plot(ax=ax, color='red', markersize=10, label='Grocery Stores')\n",
    "\n",
    "# Add title and legend (if desired)\n",
    "ax.set_title(\"Chicago with Grocery Stores\")\n",
    "ax.legend()\n",
    "\n",
    "plt.show()\n"
   ]
  },
  {
   "cell_type": "code",
   "execution_count": null,
   "metadata": {},
   "outputs": [],
   "source": [
    "import matplotlib.pyplot as plt\n",
    "\n",
    "# Assuming chicago and groceries are already loaded GeoDataFrames\n",
    "\n",
    "fig, ax = plt.subplots(figsize=(10, 10))\n",
    "\n",
    "# Plot the chicago GeoDataFrame\n",
    "chicago.plot(ax=ax, color='blue', edgecolor='black')\n",
    "\n",
    "# Overlay the groceries GeoDataFrame\n",
    "groceries.plot(ax=ax, color='red', edgecolor='white', label='Groceries')\n",
    "\n",
    "# Add title and legend\n",
    "ax.set_title(\"Chicago with Groceries\")\n",
    "ax.legend()\n",
    "\n",
    "plt.show()\n",
    "\n"
   ]
  },
  {
   "cell_type": "code",
   "execution_count": null,
   "metadata": {},
   "outputs": [],
   "source": [
    "gpd.sjoin(groceries, chicago,  predicate='within').head(5)"
   ]
  },
  {
   "cell_type": "code",
   "execution_count": null,
   "metadata": {},
   "outputs": [],
   "source": [
    "groceries.head()"
   ]
  },
  {
   "cell_type": "code",
   "execution_count": null,
   "metadata": {},
   "outputs": [],
   "source": []
  }
 ],
 "metadata": {
  "kernelspec": {
   "display_name": "Python 3 (ipykernel)",
   "language": "python",
   "name": "python3"
  },
  "language_info": {
   "codemirror_mode": {
    "name": "ipython",
    "version": 3
   },
   "file_extension": ".py",
   "mimetype": "text/x-python",
   "name": "python",
   "nbconvert_exporter": "python",
   "pygments_lexer": "ipython3",
   "version": "3.11.5"
  }
 },
 "nbformat": 4,
 "nbformat_minor": 2
}
